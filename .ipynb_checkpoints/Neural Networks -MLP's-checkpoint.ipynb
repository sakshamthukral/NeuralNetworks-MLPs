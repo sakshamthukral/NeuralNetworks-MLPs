{
 "cells": [
  {
   "cell_type": "markdown",
   "metadata": {},
   "source": [
    "# Deep Learning Basics"
   ]
  },
  {
   "cell_type": "markdown",
   "metadata": {},
   "source": [
    "## Multilayer Perceptron/Feed Forward Architecture\n",
    "### Implementing 3 Layer Neural Network From Scratch\n",
    "![SegmentLocal](ImagesUsed/ClassificationNeuralNetwork.gif \"segment\")\n",
    "#### Learning  Goals(Theory + Implementation)\n",
    "- Understand the MultiLayer Perceptron(MLP)Architecture\n",
    "- Understanding Forward Propogation & BackPropogation,Loss & Activation Functions\n",
    "- Making Predictions\n",
    "- Checking Classification Performance on different datasets\n",
    "- Classification Project\n"
   ]
  },
  {
   "cell_type": "markdown",
   "metadata": {},
   "source": [
    "# Part-1 Neural Architecture"
   ]
  },
  {
   "cell_type": "markdown",
   "metadata": {},
   "source": [
    "### One Layer Network(Single Perceptron): as it have only one computaion neuron ie it do not have any hidden layers for computaion  or outputs .Also as we know it is not So powerful as it can only be used in case of linear classification.  \n",
    "<img src='ImagesUsed/SingleLayerNeuralNetwork.jpg' width='500' height='500'>\n",
    "\n",
    "- Simplest Unit Perceptron\n",
    "- Only One Output Unit\n",
    "- No Hidden Units\n",
    "- Input is not counted in Layers\n"
   ]
  },
  {
   "cell_type": "markdown",
   "metadata": {},
   "source": [
    "### Two Layer Network\n",
    "<img src='ImagesUsed/2LayerNeuralNetwork.png' width='500' height='500'>\n",
    "\n",
    "- Two Layers => 1 Hidden Layer + 1 Output Layer \n",
    "- Multi-Layer Perceptron or feed forward net or deep forward net"
   ]
  },
  {
   "cell_type": "markdown",
   "metadata": {},
   "source": [
    "### Three Layer Network\n",
    "<img src='ImagesUsed/3LayerNeuralNetwork.jpeg' width='500' height='500'>\n",
    "\n",
    "- Three Layer => 2 Hidden Layers + 1 Output Layer\n",
    "- Multi-Layer Perceptron/feed forward net/deep forward net"
   ]
  },
  {
   "cell_type": "markdown",
   "metadata": {},
   "source": [
    "## Part-1:\n",
    "- How to create a custom neural network\n",
    "\n",
    "## Part-2:\n",
    "- How to Pass one example?\n",
    "- How to pass multiple examples(Vectorization)?\n",
    "- Writting the code\n",
    "\n",
    "## Part-3\n",
    "# Backpropagation Algorithm!\n",
    "- One of the most difficult/trickiest in ML to get right\n",
    "- Why do we need this?\n",
    "\n",
    "![SegmentLocal](ImagesUsed/GradientDescent.gif \"segment\")\n",
    "\n",
    "- Quit Mathematical,challenging to understand\n",
    "- Good Thing-As a deep learning engineer,you never have to implement backpropogation , as there are many libraries like tensorflow and pytorch, that are capable of implementing backpropagation automatically."
   ]
  },
  {
   "cell_type": "code",
   "execution_count": 1,
   "metadata": {},
   "outputs": [],
   "source": [
    "import numpy as np\n",
    "#import matplotlib.pyplot as plt"
   ]
  },
  {
   "cell_type": "code",
   "execution_count": 2,
   "metadata": {},
   "outputs": [],
   "source": [
    "# Model Parameters\n",
    "input_size = 3 # no_of_features\n",
    "layers = [4,3] # setting the number of neurons in the 1st hidden layer to be 4 and the number of neurons in the 2nd hidden layer as 3\n",
    "output_size = 2 # number of neurons in the output layer"
   ]
  },
  {
   "cell_type": "code",
   "execution_count": 3,
   "metadata": {},
   "outputs": [],
   "source": [
    " def softmax(a):\n",
    "        e_pa = np.exp(a) # output is going to be vector if a is vector\n",
    "        ans = e_pa/np.sum(e_pa,axis=1,keepdims=True) # axis=1 represnts that we want the sum acroos the column, and keepdims=True means that we want to preserve our shape ie ifinitially we have a 2 -d matrix then we also want the result to be in a 2-d matrix only\n",
    "        return ans"
   ]
  },
  {
   "cell_type": "code",
   "execution_count": 4,
   "metadata": {},
   "outputs": [],
   "source": [
    "# Architecture\n",
    "class NeuralNetwork:\n",
    "    def __init__(self,input_size,layers,output_size):\n",
    "        np.random.seed(0)\n",
    "        \n",
    "        # we are creating a model dictionary so that we can acces all of our parameters later on\n",
    "        model = {} # Dictionary\n",
    "        #activation_outputs=()\n",
    "        \n",
    "        # First Layer(Hidden layer)\n",
    "        model['W1'] = np.random.randn(input_size,layers[0]) # initializing a random weight matrix of size [n(l-1),n(l)],where n(l-1)=number of neurons in the previous layer and n(l) number of layers in the current layer for which we are creating the weight matrix\n",
    "        model['b1'] = np.zeros((1,layers[0])) # creating a bias matrix having 1 row and number of units equal to the number of neurons in the layer that will store the biasses for each of the neuron in the layer \n",
    "        \n",
    "        # Second Layer(Hidden Layer)\n",
    "        model['W2'] = np.random.randn(layers[0],layers[1])\n",
    "        model['b2'] = np.zeros((1,layers[1]))\n",
    "        \n",
    "        # Third Layer(Hidden Layer)\n",
    "        model['W3'] = np.random.randn(layers[1],output_size)\n",
    "        model['b3'] = np.zeros((1,output_size))\n",
    "        \n",
    "        self.model=model\n",
    "        self.activation_outputs = None\n",
    "    def forward(self,x):\n",
    "        #since the model parameters are packed inside the model dictionary,so we first need to\n",
    "        #unpack the model paraameters them as follows:\n",
    "        W1,W2,W3 = self.model['W1'],self.model['W2'],self.model['W3']\n",
    "        b1,b2,b3 = self.model['b1'],self.model['b2'],self.model['b3']\n",
    "    \n",
    "        # Implementing the equations\n",
    "        # since sigmoid is not a inbuilt function of the numpy so instead we are using tanh\n",
    "        z1=np.dot(x,W1)+b1\n",
    "        a1=np.tanh(z1)\n",
    "    \n",
    "        z2 = np.dot(a1,W2)+b2\n",
    "        a2 = np.tanh(z2)\n",
    "    \n",
    "        z3 = np.dot(a2,W3)+b3\n",
    "        y_ = softmax(z3)\n",
    "        \n",
    "        # When passing over every layer of the network i am storing the respective activation or the outputs of each layer int the form of a tupple\n",
    "        self.activation_outputs = (a1,a2,y_) # a1->output of 1st hidden layer , a2->output of 2nd hidden layer,y_->output of final layer \n",
    "        return y_    # returning the final output\n",
    "        # this y_ will be of shape m X c , where m is the number of examples and c is the number of output classes available \n",
    "        \n",
    "    def backward(self,x,y,learning_rate=0.001):# this method propagates your wrror and the gradient in backward direction\n",
    "        # geting the model parameters:\n",
    "        W1,W2,W3 = self.model['W1'],self.model['W2'],self.model['W3']\n",
    "        b1,b2,b3 = self.model['b1'],self.model['b2'],self.model['b3']\n",
    "        m=x.shape[0] \n",
    "        a1,a2,y_ = self.activation_outputs\n",
    "        \n",
    "        #-->For Output Layer\n",
    "        \n",
    "        # start by computing the error at the final layer ie the output layer\n",
    "        # y_= output given by the network\n",
    "        delta3 = y_- y # y_ and y both will have the shape of m X c\n",
    "        # Updating weights in the final layer\n",
    "        dw3 = np.dot(a2.T,delta3)\n",
    "        # change in biases\n",
    "        db3 = np.sum(delta3,axis=0)#/float(m) # we are dividing by m,so that we can take the average\n",
    "        \n",
    "        #-->For Second Hidden Layer\n",
    "        \n",
    "        # for finding the update weights and biases we need the derivative of the activation ie delta 2\n",
    "        delta2 = (1-np.square(a2))*np.dot(delta3,W3.T) # a2 is nothing by the activation\n",
    "        dw2 = np.dot(a1.T,delta2)\n",
    "        db2 = np.sum(delta2,axis=0)#/float(m)\n",
    "        \n",
    "        #-->For 1st hidden layer\n",
    "        \n",
    "        delta1 = (1-np.square(a1))*np.dot(delta2,W2.T)\n",
    "        dw1 = np.dot(X.T,delta1)\n",
    "        db1 = np.sum(delta1,axis=0)#/float(m)\n",
    "        \n",
    "        # Update the model parameters using Gradient Descent\n",
    "        self.model[\"W1\"] -= learning_rate*dw1\n",
    "        self.model['b1'] -= learning_rate*db1\n",
    "        \n",
    "        self.model[\"W2\"] -= learning_rate*dw2\n",
    "        self.model['b2'] -= learning_rate*db2\n",
    "        \n",
    "        self.model[\"W3\"] -= learning_rate*dw3\n",
    "        self.model['b3'] -= learning_rate*db3\n",
    "         \n",
    "        # :)\n",
    "        \n",
    "    def predict(self,x):\n",
    "        y_out = self.forward(x)\n",
    "        return np.argmax(y_out,axis=1)\n",
    "    \n",
    "    # this function will define, that what our model is all about\n",
    "    def summary(self):\n",
    "        W1,W2,W3 = self.model['W1'],self.model['W2'],self.model['W3']\n",
    "        a1,a2,y_ = self.activation_outputs\n",
    "        \n",
    "        print(\"W1 \",W1.shape)\n",
    "        print(\"A1 \",a1.shape)\n",
    "        \n",
    "        print(\"W2 \",W2.shape)\n",
    "        print(\"A2 \",a2.shape)\n",
    "        \n",
    "        print(\"W3 \",W3.shape)\n",
    "        print(\"Y_ \",y_.shape)"
   ]
  },
  {
   "cell_type": "code",
   "execution_count": 5,
   "metadata": {},
   "outputs": [],
   "source": [
    "# Loss function , it will be getting one hot vector for actual y's and also the probabilities for different classses as arguments for the function\n",
    "def loss(y_oht,p):\n",
    "    l = -np.mean(y_oht*np.log(p))\n",
    "    return l\n",
    "\n",
    "def one_hot(y,depth): # we need this function because we want to feed our data to the network\n",
    "    m=y.shape[0] # no. of rows\n",
    "    y_oht = np.zeros((m,depth))\n",
    "    y_oht[np.arange(m),y]=1 # np.arange basically helps you to iterate over all the rows and y helps to reach the column of actual label and they \n",
    "    # together specify the index where the values are to be set to 1 which were 0 earlier due to initialization \n",
    "    return y_oht"
   ]
  },
  {
   "cell_type": "markdown",
   "metadata": {},
   "source": [
    "### Generate Datasets"
   ]
  },
  {
   "cell_type": "code",
   "execution_count": 6,
   "metadata": {},
   "outputs": [],
   "source": [
    "## Generate Dataset\n",
    "from sklearn.datasets import make_circles\n",
    "import matplotlib.pyplot as plt"
   ]
  },
  {
   "cell_type": "code",
   "execution_count": 7,
   "metadata": {},
   "outputs": [],
   "source": [
    "X,Y = make_circles(n_samples=500,shuffle=True,noise=0.2,random_state=1,factor=0.2)"
   ]
  },
  {
   "cell_type": "code",
   "execution_count": 8,
   "metadata": {},
   "outputs": [
    {
     "name": "stdout",
     "output_type": "stream",
     "text": [
      "(500, 2)\n",
      "(500,)\n"
     ]
    }
   ],
   "source": [
    "print(X.shape)\n",
    "print(Y.shape)"
   ]
  },
  {
   "cell_type": "code",
   "execution_count": 9,
   "metadata": {},
   "outputs": [
    {
     "data": {
      "image/png": "[encoded data removed]",
      "text/plain": [
       "<Figure size 576x396 with 1 Axes>"
      ]
     },
     "metadata": {},
     "output_type": "display_data"
    }
   ],
   "source": [
    "plt.style.use(\"seaborn\")\n",
    "plt.scatter(X[:,0],X[:,1],c=Y,cmap=plt.cm.Accent)\n",
    "plt.show()"
   ]
  },
  {
   "cell_type": "markdown",
   "metadata": {},
   "source": [
    "## Training Our Model"
   ]
  },
  {
   "cell_type": "code",
   "execution_count": 10,
   "metadata": {},
   "outputs": [],
   "source": [
    "model=NeuralNetwork(input_size=2,layers=[10,5],output_size=2)"
   ]
  },
  {
   "cell_type": "code",
   "execution_count": 14,
   "metadata": {},
   "outputs": [
    {
     "name": "stdout",
     "output_type": "stream",
     "text": [
      "W1  (2, 10)\n",
      "A1  (500, 10)\n",
      "W2  (10, 5)\n",
      "A2  (500, 5)\n",
      "W3  (5, 2)\n",
      "Y_  (500, 2)\n"
     ]
    }
   ],
   "source": [
    "#model.forward(X).shape\n",
    "model.forward(X)\n",
    "model.summary()"
   ]
  },
  {
   "cell_type": "code",
   "execution_count": null,
   "metadata": {},
   "outputs": [],
   "source": [
    "def train(X,Y,model,epochs,learning_rate,logs=True):\n",
    "    training_loss=[]\n",
    "    classes=2\n",
    "    Y_OHT=one_hot(Y,classes)\n",
    "    \n",
    "    for ix in range(epochs):\n",
    "        Y_ = model.forward(X)\n",
    "        l = loss(Y_OHT,Y_)\n",
    "        training_loss.append(l)\n",
    "        model.backward(X,Y_OHT,learning_rate)\n",
    "        \n",
    "        if(logs):\n",
    "            print(\"Epoch %d Loss %.4f\"%(ix,l))\n",
    "        \n",
    "    return training_loss"
   ]
  },
  {
   "cell_type": "code",
   "execution_count": null,
   "metadata": {},
   "outputs": [],
   "source": [
    "losses = train(X,Y,model,500,0.001)"
   ]
  },
  {
   "cell_type": "code",
   "execution_count": null,
   "metadata": {},
   "outputs": [],
   "source": [
    "plt.plot(losses)\n",
    "plt.xlabel(\"Epoch\")\n",
    "plt.ylabel(\"Loss\")\n",
    "plt.show()"
   ]
  },
  {
   "cell_type": "code",
   "execution_count": null,
   "metadata": {},
   "outputs": [],
   "source": [
    "# Helper function to plot a decision boundary.\n",
    "# If you don't fully understand this function don't worry, it just generates the contour plot below.\n",
    "def plot_decision_boundary(pred_func):\n",
    "    # Set min and max values and give it some padding\n",
    "    x_min, x_max = X[:, 0].min() - .5, X[:, 0].max() + .5\n",
    "    y_min, y_max = X[:, 1].min() - .5, X[:, 1].max() + .5\n",
    "    h = 0.01\n",
    "    # Generate a grid of points with distance h between them\n",
    "    xx, yy = np.meshgrid(np.arange(x_min, x_max, h), np.arange(y_min, y_max, h))\n",
    "    # Predict the function value for the whole gid\n",
    "    Z = pred_func(np.c_[xx.ravel(), yy.ravel()])\n",
    "    Z = Z.reshape(xx.shape)\n",
    "    # Plot the contour and training examples\n",
    "    plt.contourf(xx, yy, Z, cmap=plt.cm.Spectral)\n",
    "    plt.scatter(X[:, 0], X[:, 1], c=y, cmap=plt.cm.Spectral)"
   ]
  },
  {
   "cell_type": "code",
   "execution_count": null,
   "metadata": {},
   "outputs": [],
   "source": [
    "plot_decision_boundary(lambda x:model.predict(x),X,Y)"
   ]
  },
  {
   "cell_type": "code",
   "execution_count": null,
   "metadata": {},
   "outputs": [],
   "source": []
  },
  {
   "cell_type": "code",
   "execution_count": null,
   "metadata": {},
   "outputs": [],
   "source": []
  },
  {
   "cell_type": "code",
   "execution_count": null,
   "metadata": {},
   "outputs": [],
   "source": []
  },
  {
   "cell_type": "code",
   "execution_count": null,
   "metadata": {},
   "outputs": [],
   "source": []
  },
  {
   "cell_type": "code",
   "execution_count": null,
   "metadata": {},
   "outputs": [],
   "source": []
  },
  {
   "cell_type": "code",
   "execution_count": null,
   "metadata": {},
   "outputs": [],
   "source": [
    "#W2 = np.random.randn(layers[0],layers[1])\n",
    "#print(W2) # 4X3 matrix\n",
    "\n",
    "#n1=NeuralNetwork(input_size,layers,output_size)\n",
    "#print(n1.model)"
   ]
  },
  {
   "cell_type": "code",
   "execution_count": null,
   "metadata": {},
   "outputs": [],
   "source": []
  },
  {
   "cell_type": "code",
   "execution_count": null,
   "metadata": {},
   "outputs": [],
   "source": [
    "#y_oht = one_hot(Y,2) # where k reffers to the number of classes\n",
    "#print(y_oht)"
   ]
  },
  {
   "cell_type": "code",
   "execution_count": null,
   "metadata": {},
   "outputs": [],
   "source": [
    "#Id we have a numpy array as a then the np.exp(a) ,implements broadcasting on the whole numpy array,ie return a numpy arrray  onlyo of the scalar values \n",
    "#a = np.array([[5,1,2],[6,1,2]])\n",
    "#np.exp(a)\n",
    "#np.sum(a,axis=1,keepdims=True)\n",
    "\n",
    "# testing softmax function on random numpy arrays:\n",
    "#a = np.array([[10,10], # probabilities are same for both values as both the values are same ie 10 and 10\n",
    "             #[20,30]]) # probabilities will be very high for 30 and very low for value 20\n",
    "#a_=softmax(a)\n",
    "#print(a_)\n",
    "  "
   ]
  },
  {
   "cell_type": "code",
   "execution_count": null,
   "metadata": {},
   "outputs": [],
   "source": [
    "\n",
    "    "
   ]
  }
 ],
 "metadata": {
  "kernelspec": {
   "display_name": "Python 3",
   "language": "python",
   "name": "python3"
  },
  "language_info": {
   "codemirror_mode": {
    "name": "ipython",
    "version": 3
   },
   "file_extension": ".py",
   "mimetype": "text/x-python",
   "name": "python",
   "nbconvert_exporter": "python",
   "pygments_lexer": "ipython3",
   "version": "3.7.6"
  }
 },
 "nbformat": 4,
 "nbformat_minor": 4
}
